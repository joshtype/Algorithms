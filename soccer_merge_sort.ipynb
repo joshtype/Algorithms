{
  "nbformat": 4,
  "nbformat_minor": 0,
  "metadata": {
    "colab": {
      "provenance": [],
      "mount_file_id": "19QCda5tSwKLsy2e3F_UIwCtdbfnp9BKz",
      "authorship_tag": "ABX9TyMnw3+RryAb+vApJA/2oIZc"
    },
    "kernelspec": {
      "name": "python3",
      "display_name": "Python 3"
    },
    "language_info": {
      "name": "python"
    }
  },
  "cells": [
    {
      "cell_type": "code",
      "execution_count": 1,
      "metadata": {
        "id": "b7qlScmLzTgM"
      },
      "outputs": [],
      "source": [
        "# Author: Joshua Gregory\n",
        "# Descr:  Custom merge sort algorithm for csv of soccer stats to rank by select metrics."
      ]
    },
    {
      "cell_type": "code",
      "source": [
        "import pandas as pd"
      ],
      "metadata": {
        "id": "iKLBVo5q1n4L"
      },
      "execution_count": 2,
      "outputs": []
    },
    {
      "cell_type": "code",
      "source": [
        "# Read csv\n",
        "def load_csv(filename):\n",
        "  \"\"\" Read csv to pandas dataframe & convert to a Python dictionary \"\"\"\n",
        "  df = pd.read_csv(filename)\n",
        "  teams = df[['Team Name', 'Points', 'Goal Difference', 'Goals For', 'Wins']].to_dict(orient = 'records')\n",
        "  return teams"
      ],
      "metadata": {
        "id": "fAt9tAOz1vGO"
      },
      "execution_count": 3,
      "outputs": []
    },
    {
      "cell_type": "code",
      "source": [
        "# Compare two teams\n",
        "def compare_stats(team1, team2):\n",
        "  \"\"\" Sorting protocol = P > GD > GF > W \"\"\"\n",
        "  if team1['Points'] != team2['Points']:\n",
        "    return team1['Points'] > team2['Points']                    # return team with greater P\n",
        "\n",
        "  if team1['Goal Difference'] != team2['Goal Difference']:\n",
        "    return team1['Goal Difference'] > team2['Goal Difference']  # else, return greater GD\n",
        "\n",
        "  if team1['Goals For'] != team2['Goals For']:\n",
        "    return team1['Goals For'] > team2['Goals For']              # else, return greater GF\n",
        "\n",
        "  return team1['Wins'] > team2['Wins']                          # else, W is final tie breaker"
      ],
      "metadata": {
        "id": "KJvWNkIa49hW"
      },
      "execution_count": 4,
      "outputs": []
    },
    {
      "cell_type": "code",
      "source": [
        "# Merge sort logic\n",
        "def merge_sort(teams):\n",
        "  if len(teams) <= 1:\n",
        "    return teams                    # list with len <= 1 is presorted\n",
        "\n",
        "  mid = len(teams) // 2             # split list in two halves\n",
        "  left = merge_sort(teams[: mid])   # recursively sort left side\n",
        "  right = merge_sort(teams[mid :])  # recursively sort right side\n",
        "\n",
        "  return merge(left, right)         # call merge() to re-join halves"
      ],
      "metadata": {
        "id": "dqbcUSkW5-GJ"
      },
      "execution_count": 5,
      "outputs": []
    },
    {
      "cell_type": "code",
      "source": [
        "# Traverse each half using compare_stats() to compare each pair\n",
        "def merge(left, right):\n",
        "  result = []   # for sorted teams\n",
        "  i = j = 0     # define pointers\n",
        "\n",
        "  while i < len(left) and j < len(right):   # while pointers < len of half\n",
        "    if compare_stats(left[i], right[j]):    # compare ith team to jth team per protocol\n",
        "      result.append(left[i])                # append ith if ith > jth in P, GD, GF, or W\n",
        "      i += 1                                # increment i\n",
        "    else:\n",
        "      result.append[right[j]]               # else, jth > ith, append jth to list\n",
        "      j += 1                                # increment j\n",
        "\n",
        "  result.extend(left[i :])                  # add remaining items from idx i\n",
        "  result.extend(right[j :])                 # add remaining items from idx j\n",
        "\n",
        "  return result                             # return sorted list"
      ],
      "metadata": {
        "id": "vpF07y_f6rWH"
      },
      "execution_count": 6,
      "outputs": []
    },
    {
      "cell_type": "code",
      "source": [
        "# Traverse list of sorted teams & print results in a readable table\n",
        "def print_sorted_teams(sorted_teams):\n",
        "  print(\"[PREMIER LEAGUE MERGE SORTED BY POINTS > GOAL DIFFERENCE > GOALS FOR > WINS]\\n\")\n",
        "\n",
        "  print(f\"{'Team' :>25} {'P' :>5} {'GD' :>5} {'GF' :>5} {'W' :>5}\")  # col headers\n",
        "  print(\"---------------------------------------------------------------------------\")\n",
        "\n",
        "  # use for-each loop to print each team's stats\n",
        "  for team in sorted_teams:\n",
        "    print(f\"{team['Team Name'] :>25} {team['Points'] :>5} {team['Goal Difference'] :>5} {team['Goals For'] :>5} {team['Wins'] :>5}\")"
      ],
      "metadata": {
        "id": "FMNB9OwK7omy"
      },
      "execution_count": 7,
      "outputs": []
    },
    {
      "cell_type": "code",
      "source": [
        "# Set filename & call functions\n",
        "def main():\n",
        "  filename = 'Premier league.csv'    # assign filename\n",
        "  teams = load_csv(filename)         # input = filename, output = dict\n",
        "  sorted_teams = merge_sort(teams)   # input = dict, output = merge sorted list\n",
        "  print_sorted_teams(sorted_teams)   # input = merge sorted list"
      ],
      "metadata": {
        "id": "K_hhCZ35-oAv"
      },
      "execution_count": 17,
      "outputs": []
    },
    {
      "cell_type": "code",
      "source": [
        "if __name__ == '__main__':\n",
        "  main()"
      ],
      "metadata": {
        "colab": {
          "base_uri": "https://localhost:8080/"
        },
        "id": "ROOiIMEG--ih",
        "outputId": "973d31aa-34e2-4fbf-b104-2593c096b6ba"
      },
      "execution_count": 18,
      "outputs": [
        {
          "output_type": "stream",
          "name": "stdout",
          "text": [
            "[PREMIER LEAGUE MERGE SORTED BY POINTS > GOAL DIFFERENCE > GOALS FOR > WINS]\n",
            "\n",
            "                     Team     P    GD    GF     W\n",
            "---------------------------------------------------------------------------\n",
            "          Manchester City    93    61    94    29\n",
            "                  Arsenal    88    52    88    27\n",
            "                Liverpool    85    47    86    25\n",
            "        Manchester United    78    32    77    23\n",
            "        Tottenham Hotspur    74    26    74    21\n",
            "                  Chelsea    67    17    68    19\n",
            "              Aston Villa    62    10    65    18\n",
            "         Newcastle United    60    10    62    17\n",
            "   Brighton & Hove Albion    59     8    58    16\n",
            "          West Ham United    54    -2    54    14\n",
            "           Crystal Palace    53     1    49    13\n",
            "                   Fulham    49    -3    47    12\n",
            "                  Everton    43   -18    42    11\n",
            "          AFC Bournemouth    41   -23    40    10\n",
            "  Wolverhampton Wanderers    39   -21    38     9\n",
            "                Brentford    38   -25    36     8\n",
            "        Nottingham Forest    34   -31    34     7\n",
            "                  Burnley    27   -40    30     5\n",
            "               Luton Town    21   -51    28     4\n",
            "         Sheffield United    16   -59    26     3\n"
          ]
        }
      ]
    }
  ]
}