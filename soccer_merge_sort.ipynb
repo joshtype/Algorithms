{
  "nbformat": 4,
  "nbformat_minor": 0,
  "metadata": {
    "colab": {
      "provenance": [],
      "authorship_tag": "ABX9TyML/SQP02Cu6hMBnqelBVYQ"
    },
    "kernelspec": {
      "name": "python3",
      "display_name": "Python 3"
    },
    "language_info": {
      "name": "python"
    }
  },
  "cells": [
    {
      "cell_type": "code",
      "execution_count": null,
      "metadata": {
        "id": "b7qlScmLzTgM"
      },
      "outputs": [],
      "source": [
        "# Joshua Gregory\n",
        "# Algorithm Analysis\n",
        "# A2 Q2 Merge Sort CSV"
      ]
    },
    {
      "cell_type": "code",
      "source": [
        "import pandas as pd"
      ],
      "metadata": {
        "id": "iKLBVo5q1n4L"
      },
      "execution_count": null,
      "outputs": []
    },
    {
      "cell_type": "code",
      "source": [
        "# load csv to dataframe, save key metrics\n",
        "def load_csv(filename):\n",
        "  df = pd.read_csv(filename)\n",
        "  teams = df[['Team Name', 'Points', 'Goal Difference', 'Goals For', 'Wins']].to_dict(orient = 'records')\n",
        "  return teams"
      ],
      "metadata": {
        "id": "fAt9tAOz1vGO"
      },
      "execution_count": null,
      "outputs": []
    },
    {
      "cell_type": "code",
      "source": [
        "# comparer method using protocol P > GD > GF > W\n",
        "def compare_stats(team1, team2):\n",
        "  if team1['Points'] != team2['Points']:\n",
        "    return team1['Points'] > team2['Points']                    # return team with higher P\n",
        "\n",
        "  if team1['Goal Difference'] != team2['Goal Difference']:\n",
        "    return team1['Goal Difference'] > team2['Goal Difference']  # if ==, return greater GD\n",
        "\n",
        "  if team1['Goals For'] != team2['Goals For']:\n",
        "    return team1['Goals For'] > team2['Goals For']              # if ==, return greater GF\n",
        "\n",
        "  return team1['Wins'] > team2['Wins']                          # if ==, W is last tie breaker"
      ],
      "metadata": {
        "id": "KJvWNkIa49hW"
      },
      "execution_count": null,
      "outputs": []
    },
    {
      "cell_type": "code",
      "source": [
        "# sorter method\n",
        "def merge_sort(teams):\n",
        "  if len(teams) <= 1:\n",
        "    return teams                    # list is presorted\n",
        "\n",
        "  mid = len(teams) // 2             # split list in two halves\n",
        "  left = merge_sort(teams[: mid])   # recursively sort left side\n",
        "  right = merge_sort(teams[mid :])  # recursively sort right side\n",
        "\n",
        "  return merge(left, right)         # use merge() to combine halves"
      ],
      "metadata": {
        "id": "dqbcUSkW5-GJ"
      },
      "execution_count": null,
      "outputs": []
    },
    {
      "cell_type": "code",
      "source": [
        "# merger method\n",
        "def merge(left, right):\n",
        "  result = []\n",
        "  i = j = 0\n",
        "\n",
        "  while i < len(left) and j < len(right):   # start from each end of list\n",
        "    if compare_stats(left[i], right[j]):    # compare ith team to jth team\n",
        "      result.append(left[i])                # append ith to list\n",
        "      i += 1                                # increment i\n",
        "    else:\n",
        "      result.append[right[j]]               # append jth to list\n",
        "      j += 1                                # increment j\n",
        "\n",
        "  result.extend(left[i :])                  # add remaining items from i\n",
        "  result.extend(right[j :])                 # add remaining items from j\n",
        "\n",
        "  return result                             # return sorted list"
      ],
      "metadata": {
        "id": "vpF07y_f6rWH"
      },
      "execution_count": null,
      "outputs": []
    },
    {
      "cell_type": "code",
      "source": [
        "# printer method with padded columns\n",
        "def print_sorted_teams(teams):\n",
        "  print(\"[PREMIER LEAGUE MERGE SORTED BY POINTS > GOAL DIFFERENCE > GOALS FOR > WINS]\\n\")\n",
        "  print(f\"{'Team' :>25} {'P' :>5} {'GD' :>5} {'GF' :>5} {'W' :>5}\")  # col headers\n",
        "  print(\"---------------------------------------------------------------------------\")\n",
        "\n",
        "  for team in teams:  # traverse teams, printing fields\n",
        "    print(f\"{team['Team Name'] :>25} {team['Points'] :>5} {team['Goal Difference'] :>5} {team['Goals For'] :>5} {team['Wins'] :>5}\")"
      ],
      "metadata": {
        "id": "FMNB9OwK7omy"
      },
      "execution_count": null,
      "outputs": []
    },
    {
      "cell_type": "code",
      "source": [
        "# main method\n",
        "def main():\n",
        "  filename = 'Premier league.csv'\n",
        "  teams = load_csv(filename)\n",
        "  sorted_teams = merge_sort(teams)\n",
        "  print_sorted_teams(sorted_teams)"
      ],
      "metadata": {
        "id": "K_hhCZ35-oAv"
      },
      "execution_count": null,
      "outputs": []
    },
    {
      "cell_type": "code",
      "source": [
        "# execute program\n",
        "if __name__ == '__main__':\n",
        "  main()"
      ],
      "metadata": {
        "colab": {
          "base_uri": "https://localhost:8080/"
        },
        "id": "ROOiIMEG--ih",
        "outputId": "8da3ae55-46cc-497a-9310-fad11f178687"
      },
      "execution_count": null,
      "outputs": [
        {
          "output_type": "stream",
          "name": "stdout",
          "text": [
            "[PREMIER LEAGUE MERGE SORTED BY POINTS > GOAL DIFFERENCE > GOALS FOR > WINS]\n",
            "\n",
            "                     Team     P    GD    GF     W\n",
            "---------------------------------------------------------------------------\n",
            "          Manchester City    93    61    94    29\n",
            "                  Arsenal    88    52    88    27\n",
            "                Liverpool    85    47    86    25\n",
            "        Manchester United    78    32    77    23\n",
            "        Tottenham Hotspur    74    26    74    21\n",
            "                  Chelsea    67    17    68    19\n",
            "              Aston Villa    62    10    65    18\n",
            "         Newcastle United    60    10    62    17\n",
            "   Brighton & Hove Albion    59     8    58    16\n",
            "          West Ham United    54    -2    54    14\n",
            "           Crystal Palace    53     1    49    13\n",
            "                   Fulham    49    -3    47    12\n",
            "                  Everton    43   -18    42    11\n",
            "          AFC Bournemouth    41   -23    40    10\n",
            "  Wolverhampton Wanderers    39   -21    38     9\n",
            "                Brentford    38   -25    36     8\n",
            "        Nottingham Forest    34   -31    34     7\n",
            "                  Burnley    27   -40    30     5\n",
            "               Luton Town    21   -51    28     4\n",
            "         Sheffield United    16   -59    26     3\n"
          ]
        }
      ]
    }
  ]
}