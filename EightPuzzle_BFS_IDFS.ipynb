{
  "cells": [
    {
      "cell_type": "code",
      "execution_count": 1,
      "metadata": {
        "id": "yhOwl4a8k9VZ"
      },
      "outputs": [],
      "source": [
        "# Author: Joshua Gregory\n",
        "# Date: Sept. 2025\n",
        "# Descr: Uses BFS & Iterative DFS to attempt to find path to goal state in 8-Puzzle Problem variant."
      ]
    },
    {
      "cell_type": "code",
      "execution_count": 2,
      "metadata": {
        "id": "gGPoP-UvJz0-"
      },
      "outputs": [],
      "source": [
        "from collections import deque\n",
        "import random"
      ]
    },
    {
      "cell_type": "code",
      "execution_count": 3,
      "metadata": {
        "id": "aovPUEuZyatg"
      },
      "outputs": [],
      "source": [
        "# Global fields\n",
        "GOAL_STATE = [[1,2,3], [8,0,4], [7,6,5]]  # solution state as 2D array\n",
        "GRID_SIZE = 3\n",
        "row_moves = [0, 0, -1, 1]  # L/R/U/D directional values for rows  *Source: GeeksForGeeks/Stack Overflow\n",
        "col_moves = [-1, 1, 0, 0]  # L/R/U/D directional values for cols  *Source: GeeksForGeeks/Stack Overflow"
      ]
    },
    {
      "cell_type": "code",
      "execution_count": 4,
      "metadata": {
        "id": "keVtN3AUWkJB"
      },
      "outputs": [],
      "source": [
        "# Puzzle state space 2d arr = [[0,1,2], [3,4,5], [6,7,8]]\n",
        "class Eight_Puzzle:\n",
        "  def __init__(self, grid_state, blank_x, blank_y, depth_level):\n",
        "    \"\"\"\n",
        "    Eight_Puzzle constructor to define & initialize object fields.\n",
        "    @param grid_state: attribute for 2d array (grid) puzzle state.\n",
        "    @param blank_x: attribute for row position of blank tile.\n",
        "    @param blank_y: attribute for column position of blank tile.\n",
        "    @param depth_level: attribute for depth of current state node.\n",
        "    \"\"\"\n",
        "    self.grid_state = grid_state    # puzzle state 2d array grid\n",
        "    self.blank_x = blank_x          # row coord of blank tile (value 0)\n",
        "    self.blank_y = blank_y          # col coord of blank tile (value 0)\n",
        "    self.depth_level = depth_level  # depth relative to root"
      ]
    },
    {
      "cell_type": "code",
      "execution_count": 5,
      "metadata": {
        "id": "Cg6MWbWQItcy"
      },
      "outputs": [],
      "source": [
        "# Generate root state space\n",
        "def get_root_grid():\n",
        "  \"\"\"\n",
        "  Creates grid for 8-puzzle root state as a 2d array with elements [0,8] shuffled.\n",
        "  @return: Root grid for 8-puzzle, row & column coords of blank tile.\n",
        "  \"\"\"\n",
        "  tile_values = list(range(9))  # list of integers [0,8], 0 = blank tile\n",
        "  random.shuffle(tile_values)   # shuffle tile positions\n",
        "\n",
        "  root_grid = [tile_values[i : i+3] for i in range(0, 9, GRID_SIZE)]  # convert to 3x3 grid\n",
        "\n",
        "  for blank_x in range(GRID_SIZE):\n",
        "    for blank_y in range(GRID_SIZE):          # search each col in each row\n",
        "      if root_grid[blank_x][blank_y] == 0:    # for blank tile with value 0\n",
        "        return root_grid, blank_x, blank_y    # return grid & xy coords of blank tile"
      ]
    },
    {
      "cell_type": "code",
      "source": [
        "# Print grid state to console\n",
        "def print_to_grid(grid_state):\n",
        "  \"\"\"\n",
        "  Prints current grid state as a grid with underscore for blank tile.\n",
        "  @param grid_state: Current grid state represented as a 2d array.\n",
        "  \"\"\"\n",
        "  print(\"--------\")\n",
        "  for row in grid_state:\n",
        "    print(' '.join('_' if val == 0 else str(val) for val in row))\n",
        "  print(\"--------\")"
      ],
      "metadata": {
        "id": "MyR4C_YfgKfx"
      },
      "execution_count": 6,
      "outputs": []
    },
    {
      "cell_type": "code",
      "execution_count": 7,
      "metadata": {
        "id": "mqC6OGhwWrV3"
      },
      "outputs": [],
      "source": [
        "# Check if goal state reached\n",
        "def state_equals_goal(grid_state):\n",
        "  \"\"\"\n",
        "  Checks if input 2d array (grid state) matches GOAL_STATE.\n",
        "  @param grid_state: 2d array (grid) representing puzzle state.\n",
        "  @return: (Boolean) T if all elements in input 2d array match GOAL_STATE, else F.\n",
        "  \"\"\"\n",
        "  return grid_state == GOAL_STATE"
      ]
    },
    {
      "cell_type": "code",
      "execution_count": 8,
      "metadata": {
        "id": "VFcg-2Z6Wukz"
      },
      "outputs": [],
      "source": [
        "# Validate move is legal\n",
        "def adj_in_range(adj_x, adj_y):\n",
        "  \"\"\"\n",
        "  Validates that a tile position is in grid state range.\n",
        "  @param adj_x: Row position of target adjacent tile.\n",
        "  @param adj_y: Column position of target adjacent tile.\n",
        "  @return: (Boolean) T if tile is in grid state range, else F.\n",
        "  \"\"\"\n",
        "  return 0 <= adj_x < GRID_SIZE and 0 <= adj_y < GRID_SIZE"
      ]
    },
    {
      "cell_type": "code",
      "execution_count": 9,
      "metadata": {
        "id": "LfqaQC6FA70x"
      },
      "outputs": [],
      "source": [
        "# Swap blank tile using row_moves/col_moves\n",
        "def move_blank_tile(grid_state, blank_x, blank_y, adj_x, adj_y):\n",
        "  \"\"\"\n",
        "  Updates grid state via swapping blank tile & adjacent tile values.\n",
        "  @param grid_state: Current state of 8-puzzle grid.\n",
        "  @param blank_x: Row position of current blank tile (value 0).\n",
        "  @param blank_y: Column position of current blank tile (value 0).\n",
        "  @param adj_x: Row position of target adjacent tile.\n",
        "  @param adj_y: Column position of target adjacent tile.\n",
        "  @return: Updated state with swapped tiles.\n",
        "  \"\"\"\n",
        "  new_state = [row[:] for row in grid_state]  # copy input grid state\n",
        "\n",
        "  temp = new_state[blank_x][blank_y]                     # store in temp var\n",
        "  new_state[blank_x][blank_y] = new_state[adj_x][adj_y]  # swap with adj tile\n",
        "  new_state[adj_x][adj_y] = temp                         # swap with blank tile\n",
        "\n",
        "  return new_state  # return updated state"
      ]
    },
    {
      "cell_type": "code",
      "source": [
        "def run_bfs(grid_state, blank_x, blank_y):\n",
        "  \"\"\"\n",
        "  Searches tiers completely before visiting children nodes.\n",
        "  @param grid_state: Puzzle state as 2d array via get_root_grid().\n",
        "  @param blank_x: Row position of blank tile (value 0).\n",
        "  @param blank_y: Column position of blank tile (value 0).\n",
        "  \"\"\"\n",
        "  Q = deque()   # FIFO queue for searching complete tiers\n",
        "  SEEN = set()  # re-init per instance, prevents cycling\n",
        "\n",
        "  Q.append(Eight_Puzzle(grid_state, blank_x, blank_y, 0))  # create object & enqueue\n",
        "  SEEN.add(tuple(map(tuple, grid_state)))  # 2d array state = immutable tuple of tupled values ((r1),(r2),(r3))\n",
        "\n",
        "  while Q:                  # while states remain in queue\n",
        "    current = Q.popleft()   # pop & store first (leftmost) node\n",
        "\n",
        "    print(f\"\\nDepth = {current.depth_level}:\")  # print current depth\n",
        "    print_to_grid(current.grid_state)           # print current state as NxN grid\n",
        "\n",
        "    if state_equals_goal(current.grid_state):\n",
        "      print(f\"\\n~ Goal state reached at depth {current.depth_level} via BFS! ~\")  # solution state reached\n",
        "      return  # exit\n",
        "\n",
        "    for i in range(4):  # loop row_moves & col_moves while i = [0,3]\n",
        "      adj_x = current.blank_x + row_moves[i]  # get row coords for possible blank tile position\n",
        "      adj_y = current.blank_y + col_moves[i]  # get col coords\n",
        "\n",
        "      if adj_in_range(adj_x, adj_y):  # validate each possible xy in range\n",
        "        new_state = move_blank_tile(current.grid_state, current.blank_x, current.blank_y, adj_x, adj_y)  # move blank tile\n",
        "\n",
        "        state_tuple = tuple(map(tuple, new_state))  # 2d array = hashable tuple of tuples\n",
        "\n",
        "        if state_tuple not in SEEN:\n",
        "          SEEN.add(state_tuple)   # add new state tuple to seen nodes set\n",
        "          Q.append(Eight_Puzzle(new_state, adj_x, adj_y, current.depth_level+1))  # create new object & enqueue\n",
        "\n",
        "  print(\"~ Goal state unreachable from root state via BFS. ~\")  # all possible moves exhausted"
      ],
      "metadata": {
        "id": "EZIqsIeTTAVB"
      },
      "execution_count": 16,
      "outputs": []
    },
    {
      "cell_type": "code",
      "execution_count": 15,
      "metadata": {
        "id": "MjKZ9fk-m2eZ"
      },
      "outputs": [],
      "source": [
        "# DFS\n",
        "def run_idfs(grid_state, blank_x, blank_y):\n",
        "  \"\"\"\n",
        "  Searches branches completely before backtracking & visiting sibling nodes.\n",
        "  @param grid_state: Current state of 8-puzzle grid.\n",
        "  @param blank_x: Row position of blank tile (value 0).\n",
        "  @param blank_y: Column position of blank tile (value 0).\n",
        "  \"\"\"\n",
        "  S = []        # LIFO stack for exploring branch depths (iteratively deepening)\n",
        "  SEEN = set()  # re-init per instance, stores seen states to prevent cycling\n",
        "\n",
        "  S.append(Eight_Puzzle(grid_state, blank_x, blank_y, 0))  # create object & push to stack\n",
        "  SEEN.add(tuple(map(tuple, grid_state)))  # convert to hashable tuple, add to seen nodes set\n",
        "\n",
        "  while S:             # while nodes (states) remain on stack\n",
        "    current = S.pop()  # pop the most recently added node (state)\n",
        "\n",
        "    print(f\"\\nDepth = {current.depth_level}:\")  # print current depth\n",
        "    print_to_grid(current.grid_state)           # print state as NxN grid\n",
        "\n",
        "    if state_equals_goal(current.grid_state):\n",
        "      print(f\"\\n~ Goal state reached at depth {current.depth_level} via IDFS! ~\")  # solution state reached\n",
        "      return  # exit\n",
        "\n",
        "    for i in range(4):  # loop through row_moves & col_moves\n",
        "      adj_x = current.blank_x + row_moves[i]  # new x = current + L/R/U/D\n",
        "      adj_y = current.blank_y + col_moves[i]  # new y = current + L/R/U/D\n",
        "\n",
        "      if adj_in_range(adj_x, adj_y):  # validate adj xy is in grid range & swap tiles\n",
        "        new_state = move_blank_tile(current.grid_state, current.blank_x, current.blank_y, adj_x, adj_y)\n",
        "\n",
        "        state_tuple = tuple(map(tuple, new_state))  # convert new state to hashable tuple\n",
        "\n",
        "        if state_tuple not in SEEN:\n",
        "          SEEN.add(state_tuple)   # add state tuple to seen nodes set\n",
        "          S.append(Eight_Puzzle(new_state, adj_x, adj_y, current.depth_level+1))  # add stack with new blank tile xy & incremented depth level\n",
        "\n",
        "  print(\"\\n~ Goal state unreachable from root state via IDFS. ~\")  # all possible moves exhausted"
      ]
    },
    {
      "cell_type": "code",
      "execution_count": 12,
      "metadata": {
        "id": "cMQo6kVgF1vQ"
      },
      "outputs": [],
      "source": [
        "# Helper method to display menu & return validated user input\n",
        "def get_menu_choice():\n",
        "  while True:  # loop menu prompt until valid input\n",
        "    print(\"\\n+------------------------------+\")\n",
        "    print(\"| 8-PUZZLE BFS/DFS SOLVER MENU |\")\n",
        "    print(\"+------------------------------+\")\n",
        "    print(\"| 1. New 8-Puzzle Grid         |\")\n",
        "    print(\"| 2. Run BFS Path Finder       |\")\n",
        "    print(\"| 3. Run IDFS Path Finder      |\")\n",
        "    print(\"| 4. Exit program              |\")\n",
        "    print(\"+------------------------------+\")\n",
        "\n",
        "    choice = input(\"\\nEnter a menu option: \").strip()  # save input without spaces\n",
        "\n",
        "    if choice == '1' or choice == '2' or choice == '3' or choice == '4':\n",
        "      return choice\n",
        "    else:\n",
        "      print(\"ERROR: Invalid input (enter menu option 1, 2, 3, or 4).\")"
      ]
    },
    {
      "cell_type": "code",
      "execution_count": 17,
      "metadata": {
        "id": "gmBlJaMhHhUF"
      },
      "outputs": [],
      "source": [
        "# Driver UI\n",
        "def main():\n",
        "  root_puzzle = None  # initialize puzzle object to null to check for\n",
        "\n",
        "  while True:\n",
        "    choice = get_menu_choice()  # menu prompt for validated input\n",
        "\n",
        "    # MENU 1: GENERATE NEW 8-PUZZLE GRID\n",
        "    if choice == '1':\n",
        "      print(\"Generating new 8-puzzle grid...\")\n",
        "      root_puzzle, root_x, root_y = get_root_grid()  # get grid & xy coords of value 0\n",
        "\n",
        "      print(\"\\nNew 8-Puzzle root state:\")\n",
        "      print_to_grid(root_puzzle)  # print initial puzzle state\n",
        "\n",
        "    # MENU 2: SOLVE VIA BFS\n",
        "    if choice == '2':\n",
        "      if not root_puzzle:  # if puzzle not created first\n",
        "        print(\"ERROR: Requires an 8-Puzzle grid (use menu option 1).\")\n",
        "      else:\n",
        "        print()  # formatting\n",
        "        run_bfs(root_puzzle, root_x, root_y)  # input = returns from get_root_grid()\n",
        "\n",
        "    # Menu 3: Solve via DFS\n",
        "    if choice == '3':\n",
        "      if not root_puzzle:  # if new puzzle not created\n",
        "        print(\"ERROR: Requires an 8-Puzzle grid (use menu option 1).\")\n",
        "      else:\n",
        "        print()  # formatting\n",
        "        run_idfs(root_puzzle, root_x, root_y)  # input = returns from get_root_grid()\n",
        "\n",
        "    # Menu 4: Exit\n",
        "    if choice == '4':\n",
        "      print(\"Exiting program... Goodbye!\")\n",
        "      return"
      ]
    },
    {
      "cell_type": "code",
      "execution_count": null,
      "metadata": {
        "colab": {
          "base_uri": "https://localhost:8080/"
        },
        "id": "MRF3OrL9zbF8",
        "outputId": "06d673c3-7fbd-4ba7-edd0-b854bbb7a027"
      },
      "outputs": [
        {
          "output_type": "stream",
          "name": "stdout",
          "text": [
            "\n",
            "+------------------------------+\n",
            "| 8-PUZZLE BFS/DFS SOLVER MENU |\n",
            "+------------------------------+\n",
            "| 1. New 8-Puzzle Grid         |\n",
            "| 2. Run BFS Path Finder       |\n",
            "| 3. Run IDFS Path Finder      |\n",
            "| 4. Exit program              |\n",
            "+------------------------------+\n",
            "\n",
            "Enter a menu option: 1\n",
            "Generating new 8-puzzle grid...\n",
            "\n",
            "New 8-Puzzle root state:\n",
            "--------\n",
            "_ 2 3\n",
            "1 7 6\n",
            "8 5 4\n",
            "--------\n",
            "\n",
            "+------------------------------+\n",
            "| 8-PUZZLE BFS/DFS SOLVER MENU |\n",
            "+------------------------------+\n",
            "| 1. New 8-Puzzle Grid         |\n",
            "| 2. Run BFS Path Finder       |\n",
            "| 3. Run IDFS Path Finder      |\n",
            "| 4. Exit program              |\n",
            "+------------------------------+\n"
          ]
        }
      ],
      "source": [
        "# Tester\n",
        "if __name__ == '__main__':\n",
        "  main()"
      ]
    }
  ],
  "metadata": {
    "colab": {
      "provenance": [],
      "authorship_tag": "ABX9TyN2ESFHx9K5JVV5WuJK1Lha"
    },
    "kernelspec": {
      "display_name": "Python 3",
      "name": "python3"
    },
    "language_info": {
      "name": "python"
    }
  },
  "nbformat": 4,
  "nbformat_minor": 0
}