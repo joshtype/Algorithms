{
  "cells": [
    {
      "cell_type": "code",
      "execution_count": null,
      "metadata": {
        "id": "yhOwl4a8k9VZ"
      },
      "outputs": [],
      "source": [
        "# Author: Joshua Gregory\n",
        "# Date: Sept. 2025\n",
        "# Descr: Uses BFS & DFS (Iteratively Deepening) to solve 8-Puzzle Problem variant."
      ]
    },
    {
      "cell_type": "code",
      "execution_count": 1,
      "metadata": {
        "id": "gGPoP-UvJz0-"
      },
      "outputs": [],
      "source": [
        "from collections import deque\n",
        "import random"
      ]
    },
    {
      "cell_type": "code",
      "execution_count": 2,
      "metadata": {
        "id": "aovPUEuZyatg"
      },
      "outputs": [],
      "source": [
        "GOAL_STATE = [[1,2,3], [8,0,4], [7,6,5]]  # solution state as 2d arr (0 = blank)\n",
        "N = 3                                     # size of state space = NxN\n",
        "\n",
        "row_moves = [0, 0, -1, 1]    # L/R/U/D values for row movements\n",
        "col_moves = [-1, 1, 0, 0]    # L/R/U/D values for col movements"
      ]
    },
    {
      "cell_type": "code",
      "execution_count": 3,
      "metadata": {
        "id": "keVtN3AUWkJB"
      },
      "outputs": [],
      "source": [
        "# Puzzle state space, as 2d arr = [[0,1,2], [3,4,5], [6,7,8]]\n",
        "class EightPuzzle:\n",
        "  def __init__(self, grid_state, blank_x, blank_y, depth_level):\n",
        "    \"\"\"\n",
        "    Constructor for EightPuzzle objects.\n",
        "    @param grid_state: attribute for 2d array state space.\n",
        "    @param blank_x: attribute for row coord of blank tile.\n",
        "    @param blank_y: attribute for column coord of blank tile.\n",
        "    @param depth_level: attribute for depth of current state node.\n",
        "    \"\"\"\n",
        "    self.grid_state = grid_state      # state space 2d array\n",
        "    self.blank_x = blank_x            # x (row) coord of 0\n",
        "    self.blank_y = blank_y            # y (col) coord of 0\n",
        "    self.depth_level = depth_level    # num moves from root"
      ]
    },
    {
      "cell_type": "code",
      "execution_count": 4,
      "metadata": {
        "id": "Cg6MWbWQItcy"
      },
      "outputs": [],
      "source": [
        "# Generate root state space\n",
        "def get_root_state():\n",
        "  \"\"\"\n",
        "  Creates 8-puzzle root state space as a 2d array with elements [0,8] shuffled.\n",
        "  @return: Root state of 8-puzzle grid, starting x & y coords of blank tile (0).\n",
        "  \"\"\"\n",
        "  tile_values = list(range(9))  # list of integers [0,8], 0 = blank tile\n",
        "  random.shuffle(tile_values)   # shuffle tile positions\n",
        "\n",
        "  root_grid = [tile_values[i : i+3] for i in range(0, 9, 3)]  # convert to grid\n",
        "\n",
        "  for blank_x in range(3):\n",
        "    for blank_y in range(3):                  # search each col in each row\n",
        "      if root_grid[blank_x][blank_y] == 0:    # for blank tile with value 0\n",
        "        return root_grid, blank_x, blank_y    # return grid & xy coords of blank tile"
      ]
    },
    {
      "cell_type": "code",
      "execution_count": 5,
      "metadata": {
        "id": "mqC6OGhwWrV3"
      },
      "outputs": [],
      "source": [
        "# Check if goal state reached\n",
        "def state_equals_goal(curr_state):\n",
        "  \"\"\"\n",
        "  Checks if current state grid elements match those in GOAL_STATE.\n",
        "  @return: (Boolean) T if all elements in curr_state match GOAL_STATE, else F.\n",
        "  \"\"\"\n",
        "  return curr_state == GOAL_STATE"
      ]
    },
    {
      "cell_type": "code",
      "execution_count": 6,
      "metadata": {
        "id": "VFcg-2Z6Wukz"
      },
      "outputs": [],
      "source": [
        "# Validate move is legal\n",
        "def is_legal_move(adj_x, adj_y):\n",
        "  \"\"\"\n",
        "  Validates that a tile position is non-diagonally adjacent to blank tile.\n",
        "  @return: (Boolean) T if tile in range & adjacent to blank tile, else F.\n",
        "  \"\"\"\n",
        "  return 0 <= adj_x < N and 0 <= adj_y < N"
      ]
    },
    {
      "cell_type": "code",
      "execution_count": 7,
      "metadata": {
        "id": "MH23SB6IWvgh"
      },
      "outputs": [],
      "source": [
        "# Print grid state to console\n",
        "def to_grid(grid_state):\n",
        "  \"\"\"\n",
        "  Prints current grid state as a grid with an underscore for blank tile.\n",
        "  @param grid_state: Current grid state represented as a 2d array.\n",
        "  \"\"\"\n",
        "  print(\"--------\")\n",
        "  for row in grid_state:\n",
        "    print(' '.join('_' if val == 0 else str(val) for val in row))\n",
        "  print(\"--------\")"
      ]
    },
    {
      "cell_type": "code",
      "execution_count": 8,
      "metadata": {
        "id": "LfqaQC6FA70x"
      },
      "outputs": [],
      "source": [
        "# Swap blank tile using row_moves/col_moves\n",
        "def get_new_state(grid_state, blank_x, blank_y, adj_x, adj_y):\n",
        "  \"\"\"\n",
        "  Updates state space via swapping blank tile & adjacent tile values.\n",
        "  @param grid_state: Current state of 8-puzzle grid.\n",
        "  @param blank_x, blank_y: Current blank tile xy grid coords.\n",
        "  @param adj_x, adj_y: Adjacent tile coords swapping values with blank tile.\n",
        "  @return: 8-puzzle state after swapping tiles.\n",
        "  \"\"\"\n",
        "  new_state = [row[:] for row in grid_state]             # copy current state grid\n",
        "\n",
        "  temp = new_state[blank_x][blank_y]                     # set to temp var\n",
        "  new_state[blank_x][blank_y] = new_state[adj_x][adj_y]  # swap with adj tile\n",
        "  new_state[adj_x][adj_y] = temp                         # swap with blank tile\n",
        "\n",
        "  return new_state                                       # return updated grid"
      ]
    },
    {
      "cell_type": "code",
      "source": [
        "def bfs_solver(grid_state, blank_x, blank_y):\n",
        "  \"\"\"\n",
        "  Searches complete tiers of state nodes before visiting children nodes.\n",
        "  @param state: Current state of 8-puzzle grid.\n",
        "  @param x, y: Row, Column for current position of blank tile.\n",
        "  \"\"\"\n",
        "  Q = deque()   # FIFO queue for searching complete tiers\n",
        "  SEEN = set()  # re-init per instance, prevents cycling\n",
        "\n",
        "  Q.append(EightPuzzle(grid_state, blank_x, blank_y, 0))  # init root & enqueue\n",
        "  SEEN.add(tuple(map(tuple, grid_state)))  # convert to tuple, add to visited nodes\n",
        "\n",
        "  while Q:                  # while states remain in queue\n",
        "    current = Q.popleft()   # pop firstmost node\n",
        "\n",
        "    print(f\"\\nDepth = {current.depth_level}:\")  # print current depth\n",
        "    to_grid(current.grid_state)                 # print current state as NxN grid\n",
        "\n",
        "    if state_equals_goal(current.grid_state):\n",
        "      print(f\"\\n~ Goal state reached at depth {current.depth_level}! ~\")  # solution state reached\n",
        "      return  # exit\n",
        "\n",
        "    for i in range(4):  # move blank tile\n",
        "      adj_x = current.blank_x + row_moves[i]  # new x = current + L/R/U/D\n",
        "      adj_y = current.blank_y + col_moves[i]  # new y = current + L/R/U/D\n",
        "\n",
        "      if is_legal_move(adj_x, adj_y):  # validate move & update state\n",
        "        new_state = get_new_state(current.grid_state, current.blank_x, current.blank_y, adj_x, adj_y)\n",
        "\n",
        "        state_tuple = tuple(map(tuple, new_state))  # convert new state to tuple, add to set\n",
        "\n",
        "        if state_tuple not in SEEN:\n",
        "          SEEN.add(state_tuple)   # add visited state to set, push state to stack\n",
        "          Q.append(EightPuzzle(new_state, adj_x, adj_y, current.depth_level+1))\n",
        "\n",
        "  print(\"Goal state unreachable from 8-Puzzle root state.\")  # all possible moves exhausted"
      ],
      "metadata": {
        "id": "EZIqsIeTTAVB"
      },
      "execution_count": 9,
      "outputs": []
    },
    {
      "cell_type": "code",
      "execution_count": 10,
      "metadata": {
        "id": "MjKZ9fk-m2eZ"
      },
      "outputs": [],
      "source": [
        "# DFS\n",
        "def dfs_solver(grid_state, blank_x, blank_y):\n",
        "  \"\"\"\n",
        "  Searches complete branch of nodes (8-puzzle states) before visiting sibling nodes.\n",
        "  @param grid_state: Current state of 8-puzzle grid.\n",
        "  @param blank_x: Row position of blank tile.\n",
        "  @param blank_y: Column position of blank tile.\n",
        "  \"\"\"\n",
        "  S = []        # LIFO stack for exploring branch depths (iteratively deepening)\n",
        "  SEEN = set()  # re-init per instance, stores seen states to prevent cycling\n",
        "\n",
        "  S.append(EightPuzzle(grid_state, blank_x, blank_y, 0))  # push root to stack\n",
        "  SEEN.add(tuple(map(tuple, grid_state)))  # convert to tuple, add to set\n",
        "\n",
        "  while S:              # while nodes (states) remain on stack\n",
        "    current = S.pop()   # pop the most recently added node (state)\n",
        "\n",
        "    print(f\"\\nDepth = {current.depth_level}:\")  # print current depth\n",
        "    to_grid(current.grid_state)                # print state as NxN grid\n",
        "\n",
        "    if state_equals_goal(current.grid_state):\n",
        "      print(f\"\\n~ Goal state reached at depth {current.depth_level}! ~\")  # solution state reached\n",
        "      return  # exit\n",
        "\n",
        "    for i in range(4):                        # move blank tile\n",
        "      adj_x = current.blank_x + row_moves[i]  # new x = current + L/R/U/D\n",
        "      adj_y = current.blank_y + col_moves[i]  # new y = current + L/R/U/D\n",
        "\n",
        "      if is_legal_move(adj_x, adj_y):  # validate move & update state\n",
        "        new_state = get_new_state(current.grid_state, current.blank_x, current.blank_y, move_x, move_y)\n",
        "\n",
        "        state_tuple = tuple(map(tuple, new_state))  # convert to tuples\n",
        "\n",
        "        if state_tuple not in SEEN:\n",
        "          SEEN.add(state_tuple)   # add visited state to set, push state to stack\n",
        "          S.append(EightPuzzle(new_state, adj_x, adj_y, current.depth_level+1))  # add new state to stack with new x,y & incremented depth level\n",
        "\n",
        "  print(\"Goal state unreachable from 8-Puzzle root state.\")  # all possible moves exhausted"
      ]
    },
    {
      "cell_type": "code",
      "execution_count": 11,
      "metadata": {
        "id": "cMQo6kVgF1vQ"
      },
      "outputs": [],
      "source": [
        "# Helper method to display menu & return validated user input\n",
        "def get_menu_choice():\n",
        "  while True:  # loop menu prompt until valid input\n",
        "    print(\"\\n-------------------------------------\")\n",
        "    print(\"| 8-PUZZLE BFS/DFS SOLVER MAIN MENU |\")\n",
        "    print(\"-------------------------------------\")\n",
        "    print(\"1. New random 8-Puzzle root state\")\n",
        "    print(\"2. Attempt to solve via BFS\")\n",
        "    print(\"3. Attempt to solve via Iteratively Deepening DFS\")\n",
        "    print(\"4. Exit program\")\n",
        "\n",
        "    choice = input(\"Enter a menu option: \").strip()  # save input without spaces\n",
        "\n",
        "    if choice == '1' or choice == '2' or choice == '3' or choice == '4':\n",
        "      return choice\n",
        "    else:\n",
        "      print(\"\\nInvalid input. Enter a valid menu number: 1, 2, 3, or 4.\")\n"
      ]
    },
    {
      "cell_type": "code",
      "execution_count": 12,
      "metadata": {
        "id": "gmBlJaMhHhUF"
      },
      "outputs": [],
      "source": [
        "# Driver UI\n",
        "def main():\n",
        "  puzzle = None      # init to null (prevent BFS or DFS without grid)\n",
        "  x, y = None, None  # init to null\n",
        "\n",
        "  while True:\n",
        "    choice = get_menu_choice()  # display menu prompt & return valid input\n",
        "\n",
        "    # MENU 1: GENERATE NEW 8-PUZZLE GRID\n",
        "    if choice == '1':\n",
        "      puzzle, x, y = get_root_state()  # get randomized grid & xy coords of value 0\n",
        "      print(\"\\nNew 8-Puzzle board created:\")\n",
        "      to_grid(puzzle)  # print initial puzzle state\n",
        "\n",
        "    # MENU 2: SOLVE VIA BFS\n",
        "    if choice == '2':\n",
        "      if not puzzle:\n",
        "        print(\"\\nRequires 8-Puzzle board via menu option 1.\")\n",
        "      else:\n",
        "        print()  # formatting\n",
        "        bfs_solver(puzzle, x, y)  # call bfs, pass state & blank tile coords\n",
        "\n",
        "    # Menu 3: Solve via DFS\n",
        "    if choice == '3':\n",
        "      if not puzzle:\n",
        "        print(\"\\nRequires 8-Puzzle board via menu option 1.\")\n",
        "      else:\n",
        "        print()  # formatting\n",
        "        dfs_solver(puzzle, x, y)  # call dfs, pass state & blank tile coords\n",
        "\n",
        "    # Menu 4: Exit\n",
        "    if choice == '4':\n",
        "      print(\"\\nExiting program... Goodbye!\")\n",
        "      return"
      ]
    },
    {
      "cell_type": "code",
      "execution_count": null,
      "metadata": {
        "colab": {
          "base_uri": "https://localhost:8080/"
        },
        "id": "MRF3OrL9zbF8",
        "outputId": "cbdc846c-db63-49f2-ae4b-eb2a6fccdd9f"
      },
      "outputs": [
        {
          "output_type": "stream",
          "name": "stdout",
          "text": [
            "\n",
            "-------------------------------------\n",
            "| 8-PUZZLE BFS/DFS SOLVER MAIN MENU |\n",
            "-------------------------------------\n",
            "1. New random 8-Puzzle root state\n",
            "2. Attempt to solve via BFS\n",
            "3. Attempt to solve via Iteratively Deepening DFS\n",
            "4. Exit program\n"
          ]
        }
      ],
      "source": [
        "# Tester\n",
        "if __name__ == '__main__':\n",
        "  main()"
      ]
    }
  ],
  "metadata": {
    "colab": {
      "provenance": [],
      "authorship_tag": "ABX9TyPbyFOpX80ononyUSMQPQw+"
    },
    "kernelspec": {
      "display_name": "Python 3",
      "name": "python3"
    },
    "language_info": {
      "name": "python"
    }
  },
  "nbformat": 4,
  "nbformat_minor": 0
}