{
  "nbformat": 4,
  "nbformat_minor": 0,
  "metadata": {
    "colab": {
      "provenance": [],
      "authorship_tag": "ABX9TyMWqfziMUxnXs6NZxwMThJ2"
    },
    "kernelspec": {
      "name": "python3",
      "display_name": "Python 3"
    },
    "language_info": {
      "name": "python"
    }
  },
  "cells": [
    {
      "cell_type": "code",
      "source": [
        "from collections import deque\n",
        "import random"
      ],
      "metadata": {
        "id": "gGPoP-UvJz0-"
      },
      "execution_count": 38,
      "outputs": []
    },
    {
      "cell_type": "code",
      "source": [
        "GOAL = [[1,2,3], [8,0,4], [7,6,5]]  # solution state as 2d arr (0 = blank)\n",
        "N = 3                               # size of state space = NxN\n",
        "\n",
        "row_moves = [0, 0, -1, 1]    # L/R/U/D values for row movements\n",
        "col_moves = [-1, 1, 0, 0]    # L/R/U/D values for col movements"
      ],
      "metadata": {
        "id": "aovPUEuZyatg"
      },
      "execution_count": 2,
      "outputs": []
    },
    {
      "cell_type": "code",
      "execution_count": 37,
      "metadata": {
        "id": "keVtN3AUWkJB"
      },
      "outputs": [],
      "source": [
        "# Puzzle state space, as 2d arr = [[0,1,2], [3,4,5], [6,7,8]]\n",
        "class EightPuzzle:\n",
        "  def __init__(self, state, x, y, level):\n",
        "    self.state = state    # state space represented as 2d array\n",
        "    self.x = x            # x (row) coord of blank tile (zero)\n",
        "    self.y = y            # y (col) coord of blank tile (zero)\n",
        "    self.level = level    # depth level (ie: # moves from root)"
      ]
    },
    {
      "cell_type": "code",
      "source": [
        "# Randomize grid with values [0,8], return grid & xy coords of blank tile (0)\n",
        "def randomize_puzzle_state():\n",
        "  tile_values = list(range(9))  # list of integers [0,8], 0 = blank tile\n",
        "  random.shuffle(tile_values)   # shuffle tile positions\n",
        "\n",
        "  puzzle_state = [tile_values[i : i+3] for i in range(0, 9, 3)]  # convert to grid\n",
        "\n",
        "  for x in range(3):\n",
        "    for y in range(3):               # search each col in earch row\n",
        "      if puzzle_state[x][y] == 0:    # for blank tile (value = 0)\n",
        "        return puzzle_state, x, y    # return grid & xy coords of blank tile"
      ],
      "metadata": {
        "id": "Cg6MWbWQItcy"
      },
      "execution_count": 49,
      "outputs": []
    },
    {
      "cell_type": "code",
      "source": [
        "# Check if current state matches solution state\n",
        "def is_goal(state):\n",
        "  return state == GOAL"
      ],
      "metadata": {
        "id": "mqC6OGhwWrV3"
      },
      "execution_count": 4,
      "outputs": []
    },
    {
      "cell_type": "code",
      "source": [
        "# Validate move is legal\n",
        "def is_legal_move(x, y):\n",
        "  return 0 <= x < N and 0 <= y < N"
      ],
      "metadata": {
        "id": "VFcg-2Z6Wukz"
      },
      "execution_count": 5,
      "outputs": []
    },
    {
      "cell_type": "code",
      "source": [
        "# Print 2d array state space as NxN grid\n",
        "def to_grid(state):\n",
        "  for row in state:\n",
        "    print(' '.join(map(str, row)))\n",
        "  print(\"--------\")"
      ],
      "metadata": {
        "id": "MH23SB6IWvgh"
      },
      "execution_count": 6,
      "outputs": []
    },
    {
      "cell_type": "code",
      "source": [
        "# Swap blank tile using row_moves/col_moves\n",
        "def update_state(current, curr_x, curr_y, move_x, move_y):\n",
        "  new_state = [row[:] for row in current.state]  # copy state by row then swap coords of blank (0) tile & neighbor\n",
        "  new_state[current.x][current.y], new_state[move_x][move_y] = new_state[move_x][move_y], new_state[current.x][current.y]\n",
        "  return new_state\n"
      ],
      "metadata": {
        "id": "LfqaQC6FA70x"
      },
      "execution_count": 17,
      "outputs": []
    },
    {
      "cell_type": "code",
      "source": [
        "# DFS\n",
        "def dfs_solver(state, x, y):\n",
        "  STACK = []     # LIFO stack for exploring branch depths iteratively\n",
        "  SEEN = set()   # re-init per instance, stores seen states to prevent cycling\n",
        "\n",
        "  STACK.append(EightPuzzle(state, x, y, 0))  # push root to stack\n",
        "  SEEN.add(tuple(map(tuple, state)))         # add to set of seen nodes\n",
        "\n",
        "  while STACK:              # while nodes (states) remain on stack\n",
        "    current = STACK.pop()   # pop the most recently added node\n",
        "\n",
        "    print(f\"Depth = {current.level}\")  # print current depth\n",
        "    to_grid(current.state)             # print state as NxN grid\n",
        "\n",
        "    if is_goal(current.state):\n",
        "      print(f\"Solution found at depth {current.level}.\")  # solution state reached\n",
        "      return  # exit\n",
        "\n",
        "    for i in range(4):                   # move blank tile\n",
        "      move_x = current.x + row_moves[i]  # new x = current + L/R/U/D\n",
        "      move_y = current.y + col_moves[i]  # new y = current + L/R/U/D\n",
        "\n",
        "      if is_legal_move(move_x, move_y):  # validate move & update state\n",
        "        new_state = update_state(current.state, current.x, current.y, move_x, move_y)\n",
        "\n",
        "        state_tuple = tuple(map(tuple, new_state))  # convert to tuples\n",
        "\n",
        "        if state_tuple not in SEEN:\n",
        "          SEEN.add(state_tuple)   # add visited state to set, push state to stack\n",
        "          STACK.append(EightPuzzle(new_state, move_x, move_y, current.level+1))\n",
        "\n",
        "  print(\"No solution found.\")  # all possible moves expired"
      ],
      "metadata": {
        "id": "MjKZ9fk-m2eZ"
      },
      "execution_count": 21,
      "outputs": []
    },
    {
      "cell_type": "code",
      "source": [
        "def bfs_solver(state, x, y):\n",
        "  QUE = deque()  # FIFO queue for searching complete tiers\n",
        "  SEEN = set()   # re-init per instance, prevents cycling\n",
        "\n",
        "  QUE.append(EightPuzzle(state, x, y, 0))  # init root & enqueue\n",
        "  SEEN.add(tuple(map(tuple, state)))       # add tuple to visited nodes\n",
        "\n",
        "  while QUE:                  # while states remain in queue\n",
        "    current = QUE.popleft()   # pop firstmost node\n",
        "\n",
        "    print(f\"Depth = {current.level}\")  # print current depth\n",
        "    to_grid(current.state)             # print current state as NxN grid\n",
        "\n",
        "    if is_goal(current.state):\n",
        "      print(f\"Solution found at depth {current.level}\")  # solution state reached\n",
        "      return  # exit\n",
        "\n",
        "    for i in range(4):                   # move blank tile\n",
        "      move_x = current.x + row_moves[i]  # new x = current + L/R/U/D\n",
        "      move_y = current.y + col_moves[i]  # new y = current + L/R/U/D\n",
        "\n",
        "      if is_legal_move(move_x, move_y):  # validate move & update state\n",
        "        new_state = update_state(current.state, current.x, current.y, move_x, move_y)\n",
        "\n",
        "        state_tuple = tuple(map(tuple, new_state))     # updated state space\n",
        "\n",
        "        if state_tuple not in SEEN:\n",
        "          SEEN.add(state_tuple)   # add visited state to set, push state to stack\n",
        "          QUE.append(EightPuzzle(new_state, move_x, move_y, current.level+1))\n",
        "\n",
        "  print(\"No solution found.\")  # all possible moves expired"
      ],
      "metadata": {
        "id": "OVXUIfCvJxTo"
      },
      "execution_count": 20,
      "outputs": []
    },
    {
      "cell_type": "code",
      "source": [
        "# Helper method to display user menu\n",
        "def get_menu_choice(menu):\n",
        "  while True:   # loop input prompt until valid input is returned\n",
        "    print(menu)\n",
        "    choice = input(\"\\nEnter a menu option: \").strip()  # get input, no spaces\n",
        "    if choice == '1' or choice == '2' or choice == '3' or choice == '4':\n",
        "      return choice\n",
        "    print(\"Invalid input. Enter a single number from the menu: 1, 2, 3, or 4.\")\n"
      ],
      "metadata": {
        "id": "cMQo6kVgF1vQ"
      },
      "execution_count": 47,
      "outputs": []
    },
    {
      "cell_type": "code",
      "source": [
        "# Driver method with ui menu\n",
        "def main():\n",
        "  menu = \"\"\"\\n======[8 PUZZLE MAIN MENU]======\n",
        "  1. Generate a New 8-Puzzle Board\n",
        "  2. Solve via BFS (Breadth-First Search)\n",
        "  3. Solve via DFS (Depth-First Search - Deepens Iteratively)\n",
        "  4. Exit\"\"\"\n",
        "\n",
        "  puzzle = None      # default null (prevent BFS or DFS)\n",
        "  x, y = None, None  # default null\n",
        "\n",
        "  while True:\n",
        "    choice = get_menu_choice(menu)  # display menu prompt & return valid input\n",
        "\n",
        "    # Menu 1: Generate new 8-Puzzle Board\n",
        "    if choice == '1':\n",
        "      puzzle, x, y = randomize_puzzle_state()  # create randomized board\n",
        "\n",
        "    # Menu 2: Solve via BFS\n",
        "    if choice == '2':\n",
        "      if not puzzle: print(\"Requires an 8-Puzzle board! Use menu option 1 first.\")\n",
        "      else: bfs_solver(puzzle, x, y)  # call bfs, pass state & blank tile coords\n",
        "\n",
        "    # Menu 3: Solve via DFS\n",
        "    if choice == '3':\n",
        "      if not puzzle: print(\"Requires an 8-Puzzle board! Use menu option 1 first.\")\n",
        "      else: dfs_solver(puzzle, x, y)  # call dfs, pass state & blank tile coords\n",
        "\n",
        "    # Menu 4: Exit\n",
        "    if choice == '4':\n",
        "      print(\"Exiting program... Goodbye!\")"
      ],
      "metadata": {
        "id": "gmBlJaMhHhUF"
      },
      "execution_count": 52,
      "outputs": []
    },
    {
      "cell_type": "code",
      "source": [
        "# Tester\n",
        "if __name__ == '__main__':\n",
        "  root = [[1,2,3], [8,0,4], [7,6,5]]   # root state space\n",
        "  x, y = 1, 1                          # blank tile coords\n",
        "\n",
        "  print(\"Solving 8-Puzzle via Iterative DFS in O(n!)...\\n\")\n",
        "  dfs_solver(root, x, y)\n",
        "\n",
        "  print(\"\\n=============================================\")\n",
        "\n",
        "  print(\"\\nSolving 8-Puzzle via BFS in O(n!)...\\n\")\n",
        "  bfs_solver(root, x, y)"
      ],
      "metadata": {
        "colab": {
          "base_uri": "https://localhost:8080/"
        },
        "id": "MRF3OrL9zbF8",
        "outputId": "a5179b7f-10c2-48da-f5c2-f18e814ac216"
      },
      "execution_count": 31,
      "outputs": [
        {
          "output_type": "stream",
          "name": "stdout",
          "text": [
            "Solving 8-Puzzle via Iterative DFS in O(n!)...\n",
            "\n",
            "Depth = 0\n",
            "1 2 3\n",
            "8 0 4\n",
            "7 6 5\n",
            "--------\n",
            "Solution found at depth 0.\n",
            "\n",
            "=============================================\n",
            "\n",
            "Solving 8-Puzzle via BFS in O(n!)...\n",
            "\n",
            "Depth = 0\n",
            "1 2 3\n",
            "8 0 4\n",
            "7 6 5\n",
            "--------\n",
            "Solution found at depth 0\n"
          ]
        }
      ]
    }
  ]
}